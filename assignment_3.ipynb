{
 "cells": [
  {
   "cell_type": "markdown",
   "id": "4e96153a",
   "metadata": {},
   "source": [
    "# Python Assignment - 3\n",
    "### Carries - 30 marks"
   ]
  },
  {
   "cell_type": "markdown",
   "id": "b5bc6391",
   "metadata": {},
   "source": [
    "## What is File function in python? What is keywords to create and write file. "
   ]
  },
  {
   "cell_type": "raw",
   "id": "7b8f868a",
   "metadata": {},
   "source": [
    "Files are named locations on disk to store related information.It has following functions:\n",
    "1.Open file.\n",
    "2.Close the file.\n",
    "3.Read file.\n",
    "4.Write into file."
   ]
  },
  {
   "cell_type": "markdown",
   "id": "77e6fcc1",
   "metadata": {},
   "source": [
    "#### Create and write a  file"
   ]
  },
  {
   "cell_type": "code",
   "execution_count": null,
   "id": "2ee69acf",
   "metadata": {},
   "outputs": [],
   "source": [
    "file-object.write(str1)"
   ]
  },
  {
   "cell_type": "code",
   "execution_count": 5,
   "id": "20917502",
   "metadata": {},
   "outputs": [],
   "source": [
    "file1 = open('myfile.txt', 'w')\n",
    "l =[\"this is kolhapur \\n\", \"learning python \\n\", \"pandas module\"]\n",
    "s = \"hello \\n\"\n",
    "file1.write(s)\n",
    "file1.writelines(l)\n",
    "file1.close()"
   ]
  },
  {
   "cell_type": "code",
   "execution_count": 6,
   "id": "334befc8",
   "metadata": {
    "scrolled": true
   },
   "outputs": [
    {
     "name": "stdout",
     "output_type": "stream",
     "text": [
      "hello \n",
      "this is kolhapur \n",
      "learning python \n",
      "pandas module\n"
     ]
    }
   ],
   "source": [
    "file1 = open('myfile.txt', 'r')\n",
    "print(file1.read())\n",
    "file1.close()"
   ]
  },
  {
   "cell_type": "markdown",
   "id": "ee678cfd",
   "metadata": {},
   "source": [
    "## Write a Python program to read an entire text file. "
   ]
  },
  {
   "cell_type": "code",
   "execution_count": 7,
   "id": "cdf7ae1a",
   "metadata": {},
   "outputs": [
    {
     "name": "stdout",
     "output_type": "stream",
     "text": [
      "read function: \n",
      "hello \n",
      "this is kolhapur \n",
      "learning python \n",
      "pandas module\n",
      "\n",
      "readlines function:\n",
      "hello \n",
      "\n",
      "\n"
     ]
    }
   ],
   "source": [
    "file = open(\"myfile.txt\",\"r\")\n",
    "print(\"read function: \")\n",
    "print(file.read())\n",
    "print()\n",
    "file.seek(0)\n",
    "print(\"readlines function:\")\n",
    "print(file.readline())\n",
    "print()\n"
   ]
  },
  {
   "cell_type": "markdown",
   "id": "dd46afa5",
   "metadata": {},
   "source": [
    "## Write a Python program to append text to a file and display the text."
   ]
  },
  {
   "cell_type": "code",
   "execution_count": 8,
   "id": "c80ebe1f",
   "metadata": {},
   "outputs": [
    {
     "name": "stdout",
     "output_type": "stream",
     "text": [
      "is file readable:  False\n",
      "is file writable:  True\n",
      "lines append to the filename file2.txt successfully\n"
     ]
    }
   ],
   "source": [
    "f = open(\"file2.txt\",'a')\n",
    "data =[\"new delhi, national capital of India\\n\" \"its situated on north\\n\",\"on the yamuna river\"]\n",
    "f.writelines(data)\n",
    "print(\"is file readable: \",f.readable())\n",
    "print(\"is file writable: \",f.writable())\n",
    "print(\"lines append to the filename file2.txt successfully\")\n",
    "f.close()\n"
   ]
  },
  {
   "cell_type": "markdown",
   "id": "52316493",
   "metadata": {},
   "source": [
    "## Write a Python program to read first n lines of a file. "
   ]
  },
  {
   "cell_type": "code",
   "execution_count": 9,
   "id": "4ff50fab",
   "metadata": {},
   "outputs": [
    {
     "name": "stdout",
     "output_type": "stream",
     "text": [
      "enter n value: 2\n",
      "the following are the first 2 lines of a text file:\n",
      "PYTHON PROGRAM\n",
      "FROM EDUONIX\n"
     ]
    }
   ],
   "source": [
    "inputfile =\"file2.txt\"\n",
    "n = int(input(\"enter n value: \"))\n",
    "with open(inputfile, 'r') as filedata:\n",
    "    lineslist = filedata.readlines()\n",
    "    print(\"the following are the first\",n,\"lines of a text file:\")\n",
    "    for textline in (lineslist[:n]):\n",
    "        print(textline, end ='')"
   ]
  },
  {
   "cell_type": "markdown",
   "id": "45dba4dc",
   "metadata": {},
   "source": [
    "## Write a Python program to read last n lines of a file. "
   ]
  },
  {
   "cell_type": "code",
   "execution_count": 10,
   "id": "90ddddbd",
   "metadata": {},
   "outputs": [
    {
     "name": "stdout",
     "output_type": "stream",
     "text": [
      "enter n value: 3\n",
      "the following are the last 3 lines of the text file:\n",
      "new delhi, national capital of India\n",
      "its situated on north\n",
      "on the yamuna river"
     ]
    }
   ],
   "source": [
    "inputfile = \"file2.txt\"\n",
    "n = int(input(\"enter n value: \"))\n",
    "with open(inputfile, 'r') as filedata:\n",
    "    linelist = filedata.readlines()\n",
    "    print(\"the following are the last\",n,\"lines of the text file:\")\n",
    "    for textline in (lineslist[n:]):\n",
    "        print(textline, end ='')"
   ]
  },
  {
   "cell_type": "markdown",
   "id": "76a74d09",
   "metadata": {},
   "source": [
    "## Write a Python program to read a file line by line and store it into a list"
   ]
  },
  {
   "cell_type": "code",
   "execution_count": 11,
   "id": "3ea8e4e4",
   "metadata": {},
   "outputs": [
    {
     "name": "stdout",
     "output_type": "stream",
     "text": [
      "line1: python program\n",
      "line2: from eduonix\n",
      "line3: for data science\n"
     ]
    }
   ],
   "source": [
    "l = [\"python program\\n\" , \"from eduonix\\n\" , \"for data science\\n\"]\n",
    "file1 = open('myfile.txt' , 'w')\n",
    "file1.writelines(l)\n",
    "file1.close()\n",
    "file1 =open('myfile.txt', 'r')\n",
    "lines = file1.readlines()\n",
    "count = 0\n",
    "for line in lines:\n",
    "    count += 1\n",
    "    print(\"line{}: {}\".format(count, line.strip()))"
   ]
  },
  {
   "cell_type": "markdown",
   "id": "589e624c",
   "metadata": {},
   "source": [
    "## Write a Python program to read a file line by line store it into a variable."
   ]
  },
  {
   "cell_type": "code",
   "execution_count": 6,
   "id": "9a6f1553",
   "metadata": {},
   "outputs": [
    {
     "name": "stdout",
     "output_type": "stream",
     "text": [
      "<class 'str'>\n",
      "python program\n",
      "from eduonix\n",
      "for data science\n",
      "\n"
     ]
    },
    {
     "data": {
      "text/plain": [
       "<function TextIOWrapper.close()>"
      ]
     },
     "execution_count": 6,
     "metadata": {},
     "output_type": "execute_result"
    }
   ],
   "source": [
    "f = open(\"myfile.txt\", \"r\")\n",
    "txt = f.read()\n",
    "print(type(txt))\n",
    "print(txt)\n",
    "f.close"
   ]
  },
  {
   "cell_type": "code",
   "execution_count": 7,
   "id": "54d06dbc",
   "metadata": {},
   "outputs": [],
   "source": [
    "f = open(\"myfile.txt\", 'r')"
   ]
  },
  {
   "cell_type": "code",
   "execution_count": 8,
   "id": "7544d4a6",
   "metadata": {},
   "outputs": [
    {
     "data": {
      "text/plain": [
       "'python program\\nfrom eduonix\\nfor data science\\n'"
      ]
     },
     "execution_count": 8,
     "metadata": {},
     "output_type": "execute_result"
    }
   ],
   "source": [
    "f.read()"
   ]
  },
  {
   "cell_type": "markdown",
   "id": "c5a5e0a9",
   "metadata": {},
   "source": [
    "## Write a Python program to copy the contents of a file to another file. "
   ]
  },
  {
   "cell_type": "code",
   "execution_count": 8,
   "id": "d47a46fb",
   "metadata": {
    "scrolled": true
   },
   "outputs": [
    {
     "name": "stdout",
     "output_type": "stream",
     "text": [
      "file2.txt\n"
     ]
    }
   ],
   "source": [
    "file_to_read = \"file2.txt\"\n",
    "write_to_file = \"file2.txt\"\n",
    "\n",
    "file = open(file_to_read,'r')\n",
    "data = file.read()\n",
    "file.close()\n",
    "\n",
    "with open(write_to_file, 'a')as file:\n",
    "    file.write(data)\n",
    "    print('file2.txt')\n",
    "    \n"
   ]
  },
  {
   "cell_type": "markdown",
   "id": "056551f3",
   "metadata": {},
   "source": [
    "## Write python program that user to enter only odd numbers, else will raise an exception"
   ]
  },
  {
   "cell_type": "code",
   "execution_count": null,
   "id": "e2ef3212",
   "metadata": {},
   "outputs": [],
   "source": []
  },
  {
   "cell_type": "markdown",
   "id": "165279e1",
   "metadata": {},
   "source": [
    "## Can one block of except statements handle multiple exception? "
   ]
  },
  {
   "cell_type": "raw",
   "id": "a6500c95",
   "metadata": {},
   "source": [
    "Yes, a single block of except statements handle multiple exception."
   ]
  },
  {
   "cell_type": "markdown",
   "id": "759b2c5f",
   "metadata": {},
   "source": [
    "## Explain Exception handling? What is an Error in Python?\n"
   ]
  },
  {
   "cell_type": "raw",
   "id": "79ba3f83",
   "metadata": {},
   "source": [
    "When our program encounters an exception, oue code ends abruptly with an error message. Most of the time,\n",
    "rather than showing this default message,we may want to show a custom message that's more helpful or run \n",
    "a different set of code,this is known as 'exception handling'. It's the process of responding to exceptions\n",
    "in a custom way during the execution of a program. In python,we use the try..except block to handle exceptions."
   ]
  },
  {
   "cell_type": "raw",
   "id": "6fe653ff",
   "metadata": {},
   "source": [
    "When we write a code its common that we make a type or some other common error. If our code fails to run,the python \n",
    "interpreter will displaya message, containing feedback with information on where the problem occurs and the type of\n",
    "an error. It will also sometimes gives us suggestions on a possible fix.\n",
    "E.g of Errors:\n",
    "    Airthmeticerror\n",
    "    Import error\n",
    "    Modulenotfounderror\n",
    "    lookuperror\n",
    "    memoryerror\n",
    "    nameerror etc_"
   ]
  },
  {
   "cell_type": "markdown",
   "id": "503ae851",
   "metadata": {},
   "source": [
    "## Write a Python program to count the number of lines in a text file. "
   ]
  },
  {
   "cell_type": "code",
   "execution_count": 15,
   "id": "9b708d8d",
   "metadata": {},
   "outputs": [
    {
     "name": "stdout",
     "output_type": "stream",
     "text": [
      "the counting of number of lines is: 3\n"
     ]
    }
   ],
   "source": [
    "with open('myfile.txt', 'r') as file:\n",
    "    cnt = 0\n",
    "    for line in file:\n",
    "        cnt += 1\n",
    "    print(f\"the counting of number of lines is: {cnt}\")"
   ]
  },
  {
   "cell_type": "markdown",
   "id": "7dd706b2",
   "metadata": {},
   "source": [
    "## Write a Python program to write a list to a file. "
   ]
  },
  {
   "cell_type": "code",
   "execution_count": 16,
   "id": "ab86375f",
   "metadata": {},
   "outputs": [
    {
     "name": "stdout",
     "output_type": "stream",
     "text": [
      "PYTHON PROGRAM\n",
      "FROM EDUONIX\n",
      "FOR DATA SCIENCE\n",
      "new delhi, national capital of India\n",
      "its situated on north\n",
      "on the yamuna river\n"
     ]
    }
   ],
   "source": [
    "f = open('file2.txt','r')\n",
    "print(f.read())\n",
    "f.close()      "
   ]
  },
  {
   "cell_type": "markdown",
   "id": "452eb320",
   "metadata": {},
   "source": [
    "# Explain Inheritance in Python with an example?What is init? Or What Is A Constructor In Python? \n",
    "\n"
   ]
  },
  {
   "cell_type": "raw",
   "id": "0d9997b4",
   "metadata": {},
   "source": [
    "Inheritance allows us to create a new class from an existing class. The new class that is created is known as subclass and\n",
    "the existing class from which the child class is derived is known as superclass(parent class).\n"
   ]
  },
  {
   "cell_type": "code",
   "execution_count": 10,
   "id": "0b42d9e7",
   "metadata": {},
   "outputs": [
    {
     "name": "stdout",
     "output_type": "stream",
     "text": [
      "this is python constructor\n",
      "hello neha\n"
     ]
    }
   ],
   "source": [
    "class student:\n",
    "    \n",
    "    def __init__(self,name):\n",
    "        print(\"this is python constructor\")\n",
    "        self.name = name\n",
    "    def show(self):\n",
    "        print(\"hello\",self.name)\n",
    "student = student(\"neha\")\n",
    "student.show()\n",
    "       "
   ]
  },
  {
   "cell_type": "raw",
   "id": "55dd5d50",
   "metadata": {},
   "source": [
    "Inheritance means init is the capibility of one class to derive or inherit the properties from other class."
   ]
  },
  {
   "cell_type": "markdown",
   "id": "a498a822",
   "metadata": {},
   "source": [
    "# Write a python program to find the longest words."
   ]
  },
  {
   "cell_type": "code",
   "execution_count": 18,
   "id": "efbdc1ae",
   "metadata": {},
   "outputs": [
    {
     "name": "stdout",
     "output_type": "stream",
     "text": [
      "enter sentence: be always confident\n",
      "longest word is:  confident\n",
      "and its length is:  9\n"
     ]
    }
   ],
   "source": [
    "sentence = input(\"enter sentence: \")\n",
    "longest = max(sentence.split(), key=len)\n",
    "print(\"longest word is: \", longest)\n",
    "print(\"and its length is: \", len(longest))\n"
   ]
  },
  {
   "cell_type": "markdown",
   "id": "cbbc881b",
   "metadata": {},
   "source": [
    "# How to Define a Class in Python? What Is Self? Give An Example Of A Python Class\n",
    ".\n"
   ]
  },
  {
   "cell_type": "raw",
   "id": "59ccd000",
   "metadata": {},
   "source": [
    "Class -A class is a user defined blueprint or phototype from which objects are created.Classes provide a means of building \n",
    "       data and functionality together. Creating a new class creates a new type of object.\n",
    "      'Using the class keywords we can define class.'\n",
    "\n",
    "Self -It represents the instance of class.\n",
    "      Class methods must have an extra first parameter in method defination.\n",
    "      we do not give a value for this parameter when we call the method, python provides it\n",
    "      if we have no method which takes no arguments, then we still have to one argument."
   ]
  },
  {
   "cell_type": "code",
   "execution_count": 12,
   "id": "ced9e99a",
   "metadata": {},
   "outputs": [
    {
     "name": "stdout",
     "output_type": "stream",
     "text": [
      "ankit\n",
      "45000\n"
     ]
    }
   ],
   "source": [
    "class person:\n",
    "    def __init__(self, name, salary):\n",
    "        self.name = name\n",
    "        self.salary = salary\n",
    "p1 = person(\"ankit\", 45000)\n",
    "print(p1.name)\n",
    "print(p1.salary)"
   ]
  },
  {
   "cell_type": "markdown",
   "id": "f856028b",
   "metadata": {},
   "source": [
    "# Write a Python class named Rectangle constructed by a length and width and a method which will compute the area of a rectangle"
   ]
  },
  {
   "cell_type": "code",
   "execution_count": 26,
   "id": "8a2eaaca",
   "metadata": {},
   "outputs": [
    {
     "name": "stdout",
     "output_type": "stream",
     "text": [
      "72\n"
     ]
    }
   ],
   "source": [
    "class rectangle():\n",
    "    def __init__(self,breadth,length):\n",
    "        self.breadth = breadth\n",
    "        self.length = length\n",
    "        \n",
    "    def area(self):\n",
    "        return self.breadth*self.length\n",
    "    \n",
    "newrectangle = rectangle(6,12)\n",
    "print(newrectangle.area())"
   ]
  },
  {
   "cell_type": "markdown",
   "id": "e627277a",
   "metadata": {},
   "source": [
    "## Explain Exception handling? What is an Error in Python? "
   ]
  },
  {
   "cell_type": "raw",
   "id": "e6329472",
   "metadata": {},
   "source": [
    "When our program encounters an exception, oue code ends abruptly with an error message. Most of the time,\n",
    "rather than showing this default message,we may want to show a custom message that's more helpful or run \n",
    "a different set of code,this is known as 'exception handling'. It's the process of responding to exceptions\n",
    "in a custom way during the execution of a program. In python,we use the try..except block to handle exceptions."
   ]
  },
  {
   "cell_type": "code",
   "execution_count": null,
   "id": "f6da7c38",
   "metadata": {},
   "outputs": [],
   "source": [
    "When we write a code its common that we make a type or some other common error. If our code fails to run,the python \n",
    "interpreter will displaya message, containing feedback with information on where the problem occurs and the type of\n",
    "an error. It will also sometimes gives us suggestions on a possible fix.\n",
    "E.g of Errors:\n",
    "    Airthmeticerror\n",
    "    Import error\n",
    "    Modulenotfounderror\n",
    "    lookuperror\n",
    "    memoryerror\n",
    "    nameerror etc_"
   ]
  },
  {
   "cell_type": "markdown",
   "id": "bed33f31",
   "metadata": {},
   "source": [
    "## How many except statements can a try-except block have? Name Some built-in exception classes: "
   ]
  },
  {
   "cell_type": "raw",
   "id": "e1622be6",
   "metadata": {},
   "source": [
    "More than zero or atleast 1 except statements can a try-except block have.\n",
    "\n",
    "Airthmeticerror.Floatingpointerror.\n",
    "Overflowerror.Zerodivisionerror.\n",
    "Importerror.Modulenotfounderror.\n",
    "Lookuperror.Indexerror.Keyerror\n",
    "Memoryerror.\n",
    "This are some  built-in exception classes."
   ]
  },
  {
   "cell_type": "markdown",
   "id": "9d89a755",
   "metadata": {},
   "source": [
    "## Write python program that user to enter only odd numbers, else will raise an exception. "
   ]
  },
  {
   "cell_type": "code",
   "execution_count": 3,
   "id": "fb017904",
   "metadata": {},
   "outputs": [
    {
     "ename": "SyntaxError",
     "evalue": "invalid syntax (752865777.py, line 2)",
     "output_type": "error",
     "traceback": [
      "\u001b[1;36m  Cell \u001b[1;32mIn[3], line 2\u001b[1;36m\u001b[0m\n\u001b[1;33m    odd numbers = 7\u001b[0m\n\u001b[1;37m        ^\u001b[0m\n\u001b[1;31mSyntaxError\u001b[0m\u001b[1;31m:\u001b[0m invalid syntax\n"
     ]
    }
   ],
   "source": [
    "try:\n",
    "    odd numbers = \n",
    "    result = odd numbers\n",
    "    print(result)\n",
    "except:\n",
    "    print(\"error: number cannot be even.\")"
   ]
  },
  {
   "cell_type": "markdown",
   "id": "e8497bda",
   "metadata": {},
   "source": [
    "## Write a Python class named Circle constructed by a radius and two methods which will compute the area and the perimeter of a circle "
   ]
  },
  {
   "cell_type": "code",
   "execution_count": 21,
   "id": "2a6c509d",
   "metadata": {},
   "outputs": [
    {
     "name": "stdout",
     "output_type": "stream",
     "text": [
      "153.86\n",
      "43.96\n"
     ]
    }
   ],
   "source": [
    "class circle():\n",
    "    def __init__(self, r):\n",
    "        self.radius = r\n",
    "        \n",
    "    def area(self):\n",
    "        return self.radius**2*3.14\n",
    "    \n",
    "    def perimeter(self):\n",
    "        return 2*self.radius*3.14\n",
    "    \n",
    "newcircle = circle(7)\n",
    "print(newcircle.area())\n",
    "print(newcircle.perimeter())"
   ]
  },
  {
   "cell_type": "markdown",
   "id": "fc384afd",
   "metadata": {},
   "source": [
    "## Explain Inheritance in Python with an example? What is init? Or What Is A Constructor In Python? "
   ]
  },
  {
   "cell_type": "raw",
   "id": "befb41dd",
   "metadata": {},
   "source": [
    "Inheritance allows us to create a new class from an existing class. The new class that is created is known as subclass and\n",
    "the existing class from which the child class is derived is known as superclass(parent class).\n",
    "\n",
    "Inheritance means init is the capibility of one class to derive or inherit the properties from other class."
   ]
  },
  {
   "cell_type": "code",
   "execution_count": 23,
   "id": "242666cb",
   "metadata": {},
   "outputs": [
    {
     "name": "stdout",
     "output_type": "stream",
     "text": [
      "I can eat\n",
      "this is animal dog\n"
     ]
    }
   ],
   "source": [
    "class animal:\n",
    "    def __init__(self,name):\n",
    "        print(\"I can eat\")\n",
    "        self.name = name\n",
    "    def show(self):\n",
    "        print(\"this is animal\",self.name)\n",
    "animal = animal(\"dog\")\n",
    "animal.show()"
   ]
  },
  {
   "cell_type": "markdown",
   "id": "ca9350b1",
   "metadata": {},
   "source": [
    "## What is Instantiation in terms of OOP terminology?\n",
    "\n"
   ]
  },
  {
   "cell_type": "raw",
   "id": "30907d33",
   "metadata": {},
   "source": [
    "The creation of an instance/object of a class called instantiation.\n",
    "This process of creating a new object for a class using a new keyword."
   ]
  }
 ],
 "metadata": {
  "kernelspec": {
   "display_name": "Python 3 (ipykernel)",
   "language": "python",
   "name": "python3"
  },
  "language_info": {
   "codemirror_mode": {
    "name": "ipython",
    "version": 3
   },
   "file_extension": ".py",
   "mimetype": "text/x-python",
   "name": "python",
   "nbconvert_exporter": "python",
   "pygments_lexer": "ipython3",
   "version": "3.11.4"
  },
  "vscode": {
   "interpreter": {
    "hash": "2043299c89c8cd0b4d1a6f5cf4529bd58e6a4e0fe3181a25e0d328c821cdc5c5"
   }
  }
 },
 "nbformat": 4,
 "nbformat_minor": 5
}
